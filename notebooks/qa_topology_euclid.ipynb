{
 "cells": [
  {
   "cell_type": "markdown",
   "metadata": {},
   "source": [
    "### on kansas"
   ]
  },
  {
   "cell_type": "code",
   "execution_count": 1,
   "metadata": {
    "collapsed": true
   },
   "outputs": [],
   "source": [
    "%matplotlib inline"
   ]
  },
  {
   "cell_type": "code",
   "execution_count": 2,
   "metadata": {
    "collapsed": false
   },
   "outputs": [
    {
     "name": "stderr",
     "output_type": "stream",
     "text": [
      "/home/raid3/huntenburg/workspace/anaconda2/envs/myelinconnect/lib/python2.7/site-packages/IPython/html.py:14: ShimWarning: The `IPython.html` package has been deprecated. You should import from `notebook` instead. `IPython.html.widgets` has moved to `ipywidgets`.\n",
      "  \"`IPython.html.widgets` has moved to `ipywidgets`.\", ShimWarning)\n"
     ]
    }
   ],
   "source": [
    "from __future__ import division\n",
    "import numpy as np\n",
    "import pandas as pd\n",
    "import matplotlib.pyplot as plt\n",
    "from vtk_rw import read_vtk\n",
    "import seaborn as sns\n",
    "from plotting import plot_surf_stat_map\n",
    "import matplotlib"
   ]
  },
  {
   "cell_type": "code",
   "execution_count": 7,
   "metadata": {
    "collapsed": true
   },
   "outputs": [],
   "source": [
    "from graphs import graph_from_mesh, dijkstra, shortest_path"
   ]
  },
  {
   "cell_type": "code",
   "execution_count": 3,
   "metadata": {
    "collapsed": true
   },
   "outputs": [],
   "source": [
    "sub='BP4T'"
   ]
  },
  {
   "cell_type": "code",
   "execution_count": 4,
   "metadata": {
    "collapsed": true
   },
   "outputs": [],
   "source": [
    "simple_v, simple_f, _ = read_vtk('/scr/ilz3/myelinconnect/groupavg/indv_space/%s/lowres_rh_d_def.vtk'%sub)"
   ]
  },
  {
   "cell_type": "code",
   "execution_count": 5,
   "metadata": {
    "collapsed": true
   },
   "outputs": [],
   "source": [
    "complex_v, complex_f, _ = read_vtk('/scr/ilz3/myelinconnect/struct/surf_rh/orig/mid_surface/%s_rh_mid.vtk'%sub)"
   ]
  },
  {
   "cell_type": "code",
   "execution_count": 6,
   "metadata": {
    "collapsed": true
   },
   "outputs": [],
   "source": [
    "mapping_ideal = np.load('/scr/ilz3/myelinconnect/all_data_on_simple_surf/seeds_ideal/%s_rh_highres2lowres_seeds.npy'%sub)"
   ]
  },
  {
   "cell_type": "code",
   "execution_count": 12,
   "metadata": {
    "collapsed": true
   },
   "outputs": [],
   "source": [
    "voronoi_seed_idx = mapping_ideal"
   ]
  },
  {
   "cell_type": "code",
   "execution_count": 83,
   "metadata": {
    "collapsed": true
   },
   "outputs": [],
   "source": [
    "simple_graph=graph_from_mesh(simple_v, simple_f, edge_length=True)"
   ]
  },
  {
   "cell_type": "code",
   "execution_count": 84,
   "metadata": {
    "collapsed": true
   },
   "outputs": [],
   "source": [
    "complex_graph=graph_from_mesh(complex_v, complex_f, edge_length=True)"
   ]
  },
  {
   "cell_type": "code",
   "execution_count": 21,
   "metadata": {
    "collapsed": false
   },
   "outputs": [],
   "source": [
    "df = pd.DataFrame(columns=['simple e0', 'simple e1', 'simple len', \n",
    "                           'complex e0', 'complex e1', 'complex len'],\n",
    "                 index=np.arange(len(simple_graph.edges())))\n",
    "\n",
    "\n",
    "import time\n",
    "start = time.time()\n",
    "\n",
    "count = 0\n",
    "for e in simple_graph.edges_iter():\n",
    "\n",
    "    df['simple e0'][count] = e[0]\n",
    "    df['simple e1'][count] = e[1]\n",
    "    df['simple len'][count] = simple_graph[e[0]][e[1]]\n",
    "\n",
    "    df['complex e0'][count] = voronoi_seed_idx[e[0]]\n",
    "    df['complex e1'][count] = voronoi_seed_idx[e[1]]\n",
    "    \n",
    "    try: \n",
    "        dist, _ = dijkstra(complex_graph, start=voronoi_seed_idx[e[0]], end=voronoi_seed_idx[e[1]])\n",
    "        df['complex len'][count] = dist[voronoi_seed_idx[e[1]]]\n",
    "    except KeyError:\n",
    "        df['complex len'][count] = np.nan\n",
    "\n",
    "    count += 1\n",
    "    \n",
    "end = time.time()\n",
    "print (end-start), 'sec'"
   ]
  },
  {
   "cell_type": "code",
   "execution_count": 82,
   "metadata": {
    "collapsed": true
   },
   "outputs": [],
   "source": [
    "df.to_csv('/scr/ilz3/myelinconnect/all_data_on_simple_surf/BP4T_rh_euclid_paths.csv')"
   ]
  },
  {
   "cell_type": "code",
   "execution_count": 247,
   "metadata": {
    "collapsed": false
   },
   "outputs": [],
   "source": [
    "differences = dict()\n",
    "for idx in voronoi_seed_idx:\n",
    "    rows = np.concatenate((np.where(df['complex e0']==idx)[0],np.where(df['complex e1']==idx)[0]))\n",
    "    differences[idx] = list(df['complex len'][rows] - df['simple len'][rows])"
   ]
  },
  {
   "cell_type": "code",
   "execution_count": 251,
   "metadata": {
    "collapsed": false
   },
   "outputs": [],
   "source": [
    "diff_df = pd.DataFrame(columns=['mean', 'max', 'sdv', 'nan'],\n",
    "                       index=voronoi_seed_idx)\n",
    "for idx in voronoi_seed_idx:\n",
    "    diff_df['mean'][idx] = np.nanmean(differences[idx])\n",
    "    diff_df['max'][idx] = np.nanmax(differences[idx])\n",
    "    diff_df['sdv'][idx] = np.nanstd(differences[idx])\n",
    "    diff_df['nan'][idx] = np.where(np.isnan(differences[idx]))[0].shape[0]"
   ]
  },
  {
   "cell_type": "code",
   "execution_count": 252,
   "metadata": {
    "collapsed": true
   },
   "outputs": [],
   "source": [
    "sns.set_context('notebook', font_scale=1.5)"
   ]
  },
  {
   "cell_type": "code",
   "execution_count": 274,
   "metadata": {
    "collapsed": false
   },
   "outputs": [
    {
     "data": {
      "text/plain": [
       "(535,)"
      ]
     },
     "execution_count": 274,
     "metadata": {},
     "output_type": "execute_result"
    }
   ],
   "source": [
    "np.where(diff_df['nan']>0)[0].shape"
   ]
  },
  {
   "cell_type": "code",
   "execution_count": 256,
   "metadata": {
    "collapsed": false
   },
   "outputs": [
    {
     "data": {
      "text/plain": [
       "<matplotlib.text.Text at 0x7fdd96fe5a90>"
      ]
     },
     "execution_count": 256,
     "metadata": {},
     "output_type": "execute_result"
    },
    {
     "data": {
      "image/png": "[encoded data removed]",
      "text/plain": [
       "<matplotlib.figure.Figure at 0x7fddada78750>"
      ]
     },
     "metadata": {},
     "output_type": "display_data"
    }
   ],
   "source": [
    "plt.hist(np.asarray(diff_df['mean']), bins=20, color=pal[0], alpha=0.8);\n",
    "plt.xlabel('mean difference')\n",
    "plt.ylabel('# nodes')"
   ]
  },
  {
   "cell_type": "code",
   "execution_count": 257,
   "metadata": {
    "collapsed": false
   },
   "outputs": [
    {
     "data": {
      "text/plain": [
       "<matplotlib.text.Text at 0x7fddac4b5b50>"
      ]
     },
     "execution_count": 257,
     "metadata": {},
     "output_type": "execute_result"
    },
    {
     "data": {
      "image/png": "[encoded data removed]",
      "text/plain": [
       "<matplotlib.figure.Figure at 0x7fdd9429a910>"
      ]
     },
     "metadata": {},
     "output_type": "display_data"
    }
   ],
   "source": [
    "plt.hist(np.asarray(diff_df['sdv']), bins=20, color=pal[3], alpha=0.8);\n",
    "plt.xlabel('sdv difference')\n",
    "plt.ylabel('# nodes')"
   ]
  },
  {
   "cell_type": "code",
   "execution_count": 258,
   "metadata": {
    "collapsed": false
   },
   "outputs": [
    {
     "data": {
      "text/plain": [
       "<matplotlib.text.Text at 0x7fdd94cf03d0>"
      ]
     },
     "execution_count": 258,
     "metadata": {},
     "output_type": "execute_result"
    },
    {
     "data": {
      "image/png": "[encoded data removed]",
      "text/plain": [
       "<matplotlib.figure.Figure at 0x7fde00db9910>"
      ]
     },
     "metadata": {},
     "output_type": "display_data"
    }
   ],
   "source": [
    "plt.hist(np.asarray(diff_df['max']), bins=20, color=pal[4], alpha=0.8);\n",
    "plt.xlabel('max difference')\n",
    "plt.ylabel('# nodes')"
   ]
  },
  {
   "cell_type": "code",
   "execution_count": 259,
   "metadata": {
    "collapsed": false
   },
   "outputs": [
    {
     "data": {
      "text/plain": [
       "<matplotlib.text.Text at 0x7fde00db9f50>"
      ]
     },
     "execution_count": 259,
     "metadata": {},
     "output_type": "execute_result"
    },
    {
     "data": {
      "image/png": "[encoded data removed]",
      "text/plain": [
       "<matplotlib.figure.Figure at 0x7fdd96fe5390>"
      ]
     },
     "metadata": {},
     "output_type": "display_data"
    }
   ],
   "source": [
    "plt.hist(np.asarray(diff_df['nan']), bins=20, color=pal[5], alpha=0.8);\n",
    "plt.xlabel('# non-existing path')\n",
    "plt.ylabel('# nodes')"
   ]
  },
  {
   "cell_type": "code",
   "execution_count": 260,
   "metadata": {
    "collapsed": false
   },
   "outputs": [],
   "source": [
    "pal=sns.color_palette('cubehelix', 10)"
   ]
  },
  {
   "cell_type": "code",
   "execution_count": 261,
   "metadata": {
    "collapsed": false
   },
   "outputs": [
    {
     "data": {
      "image/png": "[encoded data removed]",
      "text/plain": [
       "<matplotlib.figure.Figure at 0x7fdd99ba04d0>"
      ]
     },
     "metadata": {},
     "output_type": "display_data"
    }
   ],
   "source": [
    "sns.palplot(pal)"
   ]
  },
  {
   "cell_type": "code",
   "execution_count": 275,
   "metadata": {
    "collapsed": false
   },
   "outputs": [],
   "source": [
    "max_outlier = np.where(diff_df['max']>5)[0]"
   ]
  },
  {
   "cell_type": "code",
   "execution_count": 276,
   "metadata": {
    "collapsed": false
   },
   "outputs": [],
   "source": [
    "mean_outlier = np.where(diff_df['mean']>2)[0]"
   ]
  },
  {
   "cell_type": "code",
   "execution_count": 277,
   "metadata": {
    "collapsed": false
   },
   "outputs": [],
   "source": [
    "sdv_outlier = np.where(diff_df['sdv']>2)[0]"
   ]
  },
  {
   "cell_type": "code",
   "execution_count": 278,
   "metadata": {
    "collapsed": false
   },
   "outputs": [],
   "source": [
    "nan_outlier = np.where(diff_df['nan']>1)[0]"
   ]
  },
  {
   "cell_type": "code",
   "execution_count": 279,
   "metadata": {
    "collapsed": false
   },
   "outputs": [
    {
     "name": "stdout",
     "output_type": "stream",
     "text": [
      "max mean\n",
      "total 18049\n",
      "unique 12288\n",
      "overlap 5761\n",
      "% overlap 0.319186658541\n"
     ]
    }
   ],
   "source": [
    "print 'max', 'mean'\n",
    "print 'total', np.concatenate((max_outlier, mean_outlier)).shape[0]\n",
    "print 'unique', np.unique(np.concatenate((max_outlier, mean_outlier))).shape[0]\n",
    "print 'overlap', np.concatenate((max_outlier, mean_outlier)).shape[0] - np.unique(np.concatenate((max_outlier, mean_outlier))).shape[0]\n",
    "print '% overlap', (np.concatenate((max_outlier, mean_outlier)).shape[0] - np.unique(np.concatenate((max_outlier, mean_outlier))).shape[0])/np.concatenate((max_outlier, mean_outlier)).shape[0]\n"
   ]
  },
  {
   "cell_type": "code",
   "execution_count": 280,
   "metadata": {
    "collapsed": false
   },
   "outputs": [
    {
     "name": "stdout",
     "output_type": "stream",
     "text": [
      "max sdv\n",
      "total 22349\n",
      "unique 12126\n",
      "overlap 10223\n",
      "% overlap 0.56640257078\n"
     ]
    }
   ],
   "source": [
    "print 'max', 'sdv'\n",
    "print 'total', np.concatenate((max_outlier, sdv_outlier)).shape[0]\n",
    "print 'unique', np.unique(np.concatenate((max_outlier, sdv_outlier))).shape[0]\n",
    "print 'overlap', np.concatenate((max_outlier, sdv_outlier)).shape[0] - np.unique(np.concatenate((max_outlier, sdv_outlier))).shape[0]\n",
    "print '% overlap', (np.concatenate((max_outlier, sdv_outlier)).shape[0] - np.unique(np.concatenate((max_outlier, sdv_outlier))).shape[0])/np.concatenate((max_outlier, mean_outlier)).shape[0]\n"
   ]
  },
  {
   "cell_type": "code",
   "execution_count": 281,
   "metadata": {
    "collapsed": false
   },
   "outputs": [
    {
     "name": "stdout",
     "output_type": "stream",
     "text": [
      "mean sdv\n",
      "total 16878\n",
      "unique 11204\n",
      "overlap 5674\n",
      "% overlap 0.336177272189\n"
     ]
    }
   ],
   "source": [
    "print 'mean', 'sdv'\n",
    "print 'total', np.concatenate((mean_outlier, sdv_outlier)).shape[0]\n",
    "print 'unique', np.unique(np.concatenate((mean_outlier, sdv_outlier))).shape[0]\n",
    "print 'overlap', np.concatenate((mean_outlier, sdv_outlier)).shape[0] - np.unique(np.concatenate((mean_outlier, sdv_outlier))).shape[0]\n",
    "print '% overlap', (np.concatenate((mean_outlier, sdv_outlier)).shape[0] - np.unique(np.concatenate((mean_outlier, sdv_outlier))).shape[0])/np.concatenate((mean_outlier, sdv_outlier)).shape[0]\n"
   ]
  },
  {
   "cell_type": "code",
   "execution_count": 282,
   "metadata": {
    "collapsed": false
   },
   "outputs": [
    {
     "name": "stdout",
     "output_type": "stream",
     "text": [
      "mean nan\n",
      "total 6633\n",
      "unique 6633\n",
      "overlap 0\n",
      "% overlap 0.0\n"
     ]
    }
   ],
   "source": [
    "print 'mean', 'nan'\n",
    "print 'total', np.concatenate((mean_outlier, nan_outlier)).shape[0]\n",
    "print 'unique', np.unique(np.concatenate((mean_outlier, nan_outlier))).shape[0]\n",
    "print 'overlap', np.concatenate((mean_outlier, nan_outlier)).shape[0] - np.unique(np.concatenate((mean_outlier, nan_outlier))).shape[0]\n",
    "print '% overlap', (np.concatenate((mean_outlier, nan_outlier)).shape[0] - np.unique(np.concatenate((mean_outlier, nan_outlier))).shape[0])/np.concatenate((mean_outlier, nan_outlier)).shape[0]\n"
   ]
  },
  {
   "cell_type": "code",
   "execution_count": 283,
   "metadata": {
    "collapsed": false
   },
   "outputs": [
    {
     "name": "stdout",
     "output_type": "stream",
     "text": [
      "max nan\n",
      "total 12104\n",
      "unique 12082\n",
      "overlap 22\n",
      "% overlap 0.00181758096497\n"
     ]
    }
   ],
   "source": [
    "print 'max', 'nan'\n",
    "print 'total', np.concatenate((max_outlier, nan_outlier)).shape[0]\n",
    "print 'unique', np.unique(np.concatenate((max_outlier, nan_outlier))).shape[0]\n",
    "print 'overlap', np.concatenate((max_outlier, nan_outlier)).shape[0] - np.unique(np.concatenate((max_outlier, nan_outlier))).shape[0]\n",
    "print '% overlap', (np.concatenate((max_outlier, nan_outlier)).shape[0] - np.unique(np.concatenate((max_outlier, nan_outlier))).shape[0])/np.concatenate((max_outlier, nan_outlier)).shape[0]\n"
   ]
  },
  {
   "cell_type": "code",
   "execution_count": 284,
   "metadata": {
    "collapsed": false
   },
   "outputs": [
    {
     "name": "stdout",
     "output_type": "stream",
     "text": [
      "sdv nan\n",
      "total 10933\n",
      "unique 10914\n",
      "overlap 19\n",
      "% overlap 0.00173785786152\n"
     ]
    }
   ],
   "source": [
    "print 'sdv', 'nan'\n",
    "print 'total', np.concatenate((sdv_outlier, nan_outlier)).shape[0]\n",
    "print 'unique', np.unique(np.concatenate((sdv_outlier, nan_outlier))).shape[0]\n",
    "print 'overlap', np.concatenate((sdv_outlier, nan_outlier)).shape[0] - np.unique(np.concatenate((sdv_outlier, nan_outlier))).shape[0]\n",
    "print '% overlap', (np.concatenate((sdv_outlier, nan_outlier)).shape[0] - np.unique(np.concatenate((sdv_outlier, nan_outlier))).shape[0])/np.concatenate((sdv_outlier, nan_outlier)).shape[0]\n"
   ]
  },
  {
   "cell_type": "code",
   "execution_count": null,
   "metadata": {
    "collapsed": true
   },
   "outputs": [],
   "source": []
  },
  {
   "cell_type": "code",
   "execution_count": null,
   "metadata": {
    "collapsed": true
   },
   "outputs": [],
   "source": []
  }
 ],
 "metadata": {
  "kernelspec": {
   "display_name": "Python 2",
   "language": "python",
   "name": "python2"
  },
  "language_info": {
   "codemirror_mode": {
    "name": "ipython",
    "version": 2
   },
   "file_extension": ".py",
   "mimetype": "text/x-python",
   "name": "python",
   "nbconvert_exporter": "python",
   "pygments_lexer": "ipython2",
   "version": "2.7.11"
  }
 },
 "nbformat": 4,
 "nbformat_minor": 0
}
