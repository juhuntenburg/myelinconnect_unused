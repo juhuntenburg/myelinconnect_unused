{
 "cells": [
  {
   "cell_type": "code",
   "execution_count": 1,
   "metadata": {
    "collapsed": false
   },
   "outputs": [
    {
     "name": "stdout",
     "output_type": "stream",
     "text": [
      "Populating the interactive namespace from numpy and matplotlib\n"
     ]
    }
   ],
   "source": [
    "%gui wx\n",
    "%pylab inline"
   ]
  },
  {
   "cell_type": "markdown",
   "metadata": {},
   "source": [
    "#### load libraries, functions, colormap"
   ]
  },
  {
   "cell_type": "code",
   "execution_count": 4,
   "metadata": {
    "collapsed": false
   },
   "outputs": [],
   "source": [
    "import numpy as np\n",
    "import pandas as pd\n",
    "import scipy.stats as stats\n",
    "import matplotlib.pyplot as plt\n",
    "from mayavi import mlab\n",
    "from sklearn.utils.arpack import eigsh\n",
    "from sklearn.cluster import KMeans\n",
    "import seaborn as sns\n",
    "from vtk_rw import read_vtk, write_vtk"
   ]
  },
  {
   "cell_type": "code",
   "execution_count": 3,
   "metadata": {
    "collapsed": false
   },
   "outputs": [],
   "source": [
    "from __future__ import division"
   ]
  },
  {
   "cell_type": "markdown",
   "metadata": {},
   "source": [
    "this version of read_vtk only works if there is data attached to the nodes, need to make it optional"
   ]
  },
  {
   "cell_type": "markdown",
   "metadata": {},
   "source": [
    "cmap created with sns.palplot(sns.color_palette(\"Set2\", 7)), then adding grey in the beginning. For use with mayavi transformed to array, added alpha value and multiply all by 255"
   ]
  },
  {
   "cell_type": "code",
   "execution_count": 5,
   "metadata": {
    "collapsed": false
   },
   "outputs": [],
   "source": [
    "cmap_7=np.zeros((8,4))\n",
    "cmap_7[0,:]=[0.6, 0.6, 0.6, 1]\n",
    "cmap_7[7,:]=[0.8, 0.6151497514677574, 0.11111, 1]\n",
    "cmap_7[2,:]=[0.89573241682613591, 0.76784315109252932, 0.58182240093455595,1]\n",
    "cmap_7[3,:]=[0.86, 0.37119999999999997, 0.34,1]\n",
    "cmap_7[4,:]=[0.9677975592919913, 0.44127456009157356, 0.5358103155058701,1]\n",
    "cmap_7[5,:]=[0.46810256823426105, 0.6699492535792404, 0.1928958739904499,1]\n",
    "cmap_7[6,:]=[0.20125317221201128, 0.6907920815379025, 0.6,1]\n",
    "cmap_7[1,:]=[0.21044753832183283, 0.55, 0.7,1]\n",
    "cmap_255_7=np.zeros_like(cmap_7)\n",
    "for row in range(cmap_7.shape[0]):\n",
    "    cmap_255_7[row]=[np.floor(i * 255) for i in cmap_7[row]]\n",
    "cmap_255_7=cmap_255_7.astype(int)"
   ]
  },
  {
   "cell_type": "code",
   "execution_count": 6,
   "metadata": {
    "collapsed": false
   },
   "outputs": [],
   "source": [
    "cmap_8=np.zeros((9,4))\n",
    "cmap_8[0,:]=[0.6, 0.6, 0.6, 1]\n",
    "cmap_8[8,:]=[0.8, 0.6151497514677574, 0.11111, 1]\n",
    "cmap_8[2,:]=[0.89573241682613591, 0.76784315109252932, 0.58182240093455595,1]\n",
    "cmap_8[3,:]=[0.86, 0.37119999999999997, 0.34,1]\n",
    "#cmap_8[4,:]=[0.9677975592919913, 0.44127456009157356, 0.5358103155058701,1]\n",
    "cmap_8[4,:]=[0.75, 0.4, 0.5,1]\n",
    "cmap_8[5,:]=[0.8616090647292522, 0.536495730113334, 0.19548899031476086,1]\n",
    "cmap_8[6,:]=[0.46810256823426105, 0.6699492535792404, 0.1928958739904499,1]\n",
    "cmap_8[7,:]=[0.20125317221201128, 0.6907920815379025, 0.6,1]\n",
    "cmap_8[1,:]=[0.21044753832183283, 0.55, 0.7,1]\n",
    "#cmap_9[0,:]=[0.0,0.0,0.0,1.0]\n",
    "cmap_255_8=np.zeros_like(cmap_8)\n",
    "for row in range(cmap_8.shape[0]):\n",
    "    cmap_255_8[row]=[np.floor(i * 255) for i in cmap_8[row]]\n",
    "cmap_255_8=cmap_255_8.astype(int)"
   ]
  },
  {
   "cell_type": "code",
   "execution_count": 7,
   "metadata": {
    "collapsed": false
   },
   "outputs": [],
   "source": [
    "cmap_9=np.zeros((10,4))\n",
    "cmap_9[0,:]=[0.6, 0.6, 0.6, 1]\n",
    "cmap_9[9,:]=[0.8, 0.6151497514677574, 0.11111, 1]\n",
    "cmap_9[2,:]=[0.89573241682613591, 0.76784315109252932, 0.58182240093455595,1]\n",
    "cmap_9[3,:]=[0.86, 0.37119999999999997, 0.34,1]\n",
    "cmap_9[4,:]=[0.9677975592919913, 0.44127456009157356, 0.5358103155058701,1]\n",
    "cmap_9[5,:]=[0.75, 0.4, 0.5,1]\n",
    "cmap_9[6,:]=[0.8616090647292522, 0.536495730113334, 0.19548899031476086,1]\n",
    "cmap_9[7,:]=[0.46810256823426105, 0.6699492535792404, 0.1928958739904499,1]\n",
    "cmap_9[8,:]=[0.20125317221201128, 0.6907920815379025, 0.6,1]\n",
    "cmap_9[1,:]=[0.21044753832183283, 0.55, 0.7,1]\n",
    "#cmap_9[0,:]=[0.0,0.0,0.0,1.0]\n",
    "cmap_255_9=np.zeros_like(cmap_9)\n",
    "for row in range(cmap_9.shape[0]):\n",
    "    cmap_255_9[row]=[np.floor(i * 255) for i in cmap_9[row]]\n",
    "cmap_255_9=cmap_255_9.astype(int)"
   ]
  },
  {
   "cell_type": "code",
   "execution_count": 8,
   "metadata": {
    "collapsed": false
   },
   "outputs": [],
   "source": [
    "cmap=[cmap_7, cmap_8, cmap_9]\n",
    "cmap_255=[cmap_255_7, cmap_255_8, cmap_255_9]"
   ]
  },
  {
   "cell_type": "markdown",
   "metadata": {},
   "source": [
    "#### load relevant files for subject and hemisphere"
   ]
  },
  {
   "cell_type": "code",
   "execution_count": 9,
   "metadata": {
    "collapsed": false
   },
   "outputs": [],
   "source": [
    "sub='WSFT'\n",
    "hemi='rh'\n",
    "n_components_embedding=3\n",
    "n_components_kmeans=9\n",
    "smooth='3'\n",
    "\n",
    "data_dir='/scr/ilz3/myelinconnect/final_struct_space/'\n",
    "func_file=data_dir+'rest1_1_meshsmooth_%s/%s_%s_mid_simple_0.01_rest_%s_smoothdata.vtk'%(smooth, sub, hemi, hemi)\n",
    "t1_file=data_dir+'t1_smooth_1.5_mesh/%s_%s_mid_simple_0.01_t1_smooth1.5_%s.vtk'%(sub, hemi, hemi)\n",
    "embed_file=data_dir+\"clustering_%s/%s_%s_mid_simple_0.01_rest_%s_smoothdata_embed_%s.csv\"%(smooth, sub, hemi, hemi, str(n_components_embedding))\n",
    "clust_file=data_dir+\"clustering_%s/%s_%s_mid_simple_0.01_rest_%s_smoothdata_embed_%s_kmeans_%s.csv\"%(smooth, sub, hemi, hemi, str(n_components_embedding), str(n_components_kmeans))\n",
    "\n",
    "\n",
    "var_file=data_dir+'/results_k%s_s%s_other/%s_%s_cluster_var.csv'%(str(n_components_kmeans),smooth, sub, hemi)\n",
    "t_file=data_dir+'/results_k%s_s%s_other/%s_%s_cluster_avg_t.csv'%(str(n_components_kmeans),smooth, sub, hemi)\n",
    "p_file=data_dir+'/results_k%s_s%s_other/%s_%s_cluster_avg_p.csv'%(str(n_components_kmeans),smooth, sub, hemi)\n",
    "fig_file=data_dir+'/results_k%s_s%s_other/%s_%s_cluster_violins.svg'%(str(n_components_kmeans),smooth, sub, hemi)\n",
    "\n",
    "pal=cmap[2]\n",
    "pal_255=cmap_255[2]"
   ]
  },
  {
   "cell_type": "code",
   "execution_count": 10,
   "metadata": {
    "collapsed": false
   },
   "outputs": [
    {
     "name": "stderr",
     "output_type": "stream",
     "text": [
      "/usr/lib/python2.7/dist-packages/pandas/io/parsers.py:624: ParserWarning: Falling back to the 'python' engine because the 'c' engine does not support regex separators; you can avoid this warning by specifying engine='python'.\n",
      "  ParserWarning)\n"
     ]
    }
   ],
   "source": [
    "vt,ft,dt=read_vtk(t1_file)\n",
    "t1=dt['val'][:,0]\n",
    "\n",
    "embed=np.loadtxt(embed_file, delimiter=',')\n",
    "clust=np.loadtxt(clust_file, delimiter=',')\n",
    "\n",
    "xt=vt['val'][:,0]\n",
    "yt=vt['val'][:,1]\n",
    "zt=vt['val'][:,2]\n",
    "trianglest=ft['val']"
   ]
  },
  {
   "cell_type": "markdown",
   "metadata": {},
   "source": [
    "#### Get T1 values in all clusters"
   ]
  },
  {
   "cell_type": "code",
   "execution_count": 11,
   "metadata": {
    "collapsed": false
   },
   "outputs": [],
   "source": [
    "# make a list of dictionaries for each cluster k0, k1, ...(0=mask to max kmeans) \n",
    "# and subcluster s0_1, s1_1, s1_2, ..(1 to max subcluster, no 0 subcluster)\n",
    "t1_clust={}\n",
    "for c in range(int(clust.max()+1)):\n",
    "    t1_clust['k'+str(c)]=[]\n",
    "\n",
    "# write all t1 values in one cluster into the list of its dictionary\n",
    "for i in range(len(t1)):\n",
    "    if t1[i]>1000:\n",
    "        k=int(clust[i])\n",
    "        t1_clust['k'+str(k)].append(t1[i])"
   ]
  },
  {
   "cell_type": "markdown",
   "metadata": {},
   "source": [
    "#### Compare variance of kmeans cluster vs all other clusters and mean between all clusters"
   ]
  },
  {
   "cell_type": "code",
   "execution_count": 12,
   "metadata": {
    "collapsed": false
   },
   "outputs": [],
   "source": [
    "levene_array=np.zeros((6,int(clust.max())))\n",
    "col=[]\n",
    "sigk=[]\n",
    "for c1 in range(int(clust.max())):\n",
    "    a=t1_clust['k'+str(c1+1)]\n",
    "    b=[]\n",
    "    for c2 in range(int(clust.max())):\n",
    "        if (c2+1) != (c1+1):\n",
    "            b+=t1_clust['k'+str(c2+1)]\n",
    "    W,p=stats.levene(a, b)\n",
    "    col.append(int(c1+1))\n",
    "    levene_array[0,c1]=W\n",
    "    levene_array[1,c1]=p\n",
    "    levene_array[2,c1]=np.var(a)\n",
    "    levene_array[3,c1]=np.var(b)\n",
    "    if p <(0.05/int(clust.max())):\n",
    "        levene_array[4,c1]=True\n",
    "    else:\n",
    "        levene_array[4,c1]=False\n",
    "    \n",
    "    if np.var(a)<np.var(b):\n",
    "        levene_array[5,c1]=True\n",
    "    else:\n",
    "        levene_array[5,c1]=False\n",
    "        \n",
    "    if (levene_array[4,c1]==True) and (levene_array[5,c1]==True):\n",
    "        sigk.append(c1+1)\n",
    "    #print 'levene k'+str(c1+1)+' vs all other clusters:', W, p\n",
    "    #print 'variance k'+str(c1+1), np.var(a)\n",
    "    #print 'variance all others', np.var(b)\n",
    "    #print ''\n",
    "\n",
    "\n",
    "    \n",
    "levene_df=pd.DataFrame(levene_array, columns=col, index=['W', 'p', 'var k', 'var other', 'p<0.05/k', 'var decrease'])\n",
    "levene_df.to_csv(var_file)"
   ]
  },
  {
   "cell_type": "code",
   "execution_count": 13,
   "metadata": {
    "collapsed": false
   },
   "outputs": [],
   "source": [
    "t_array=np.zeros((int(clust.max()),int(clust.max())))\n",
    "p_array=np.zeros((int(clust.max()),int(clust.max())))\n",
    "col2=[]\n",
    "for c1 in range(int(clust.max())):\n",
    "    for c2 in range(int(clust.max())):\n",
    "        if c2>=c1:\n",
    "            a=t1_clust['k'+str(c1+1)]\n",
    "            b=t1_clust['k'+str(c2+1)]\n",
    "            t,p=stats.ttest_ind(a, b)\n",
    "            t_array[c1][c2]=t\n",
    "            p_array[c1][c2]=p\n",
    "    col2.append(c1+1)\n",
    "t_df=pd.DataFrame(t_array, columns=col2, index=col2)\n",
    "p_df=pd.DataFrame(p_array, columns=col2, index=col2)\n",
    "\n",
    "t_df.to_csv(t_file)\n",
    "p_df.to_csv(p_file)"
   ]
  },
  {
   "cell_type": "markdown",
   "metadata": {},
   "source": [
    "#### Plot clustering, T1 values, Levene's statistics and T statistics"
   ]
  },
  {
   "cell_type": "code",
   "execution_count": 14,
   "metadata": {
    "collapsed": false
   },
   "outputs": [],
   "source": [
    "plot_list=[]\n",
    "for c in range(int(clust.max())):\n",
    "    plot_list+=[np.array(t1_clust['k'+str(c+1)])]\n",
    "    \n",
    "names=[]\n",
    "for c in range(int(clust.max())):\n",
    "    names.append(str(c+1))"
   ]
  },
  {
   "cell_type": "code",
   "execution_count": 15,
   "metadata": {
    "collapsed": false
   },
   "outputs": [
    {
     "data": {
      "image/png": "[encoded data removed]",
      "text/plain": [
       "<matplotlib.figure.Figure at 0x887cd90>"
      ]
     },
     "metadata": {},
     "output_type": "display_data"
    }
   ],
   "source": [
    "sns.palplot(pal)"
   ]
  },
  {
   "cell_type": "code",
   "execution_count": 16,
   "metadata": {
    "collapsed": false
   },
   "outputs": [
    {
     "name": "stderr",
     "output_type": "stream",
     "text": [
      "/usr/lib/python2.7/dist-packages/scipy/stats/stats.py:1367: DeprecationWarning: using a non-integer number instead of an integer will result in an error in the future\n",
      "  return values[idx]\n",
      "/usr/lib/python2.7/dist-packages/scipy/stats/stats.py:1367: DeprecationWarning: using a non-integer number instead of an integer will result in an error in the future\n",
      "  return values[idx]\n",
      "/usr/lib/python2.7/dist-packages/scipy/stats/stats.py:1367: DeprecationWarning: using a non-integer number instead of an integer will result in an error in the future\n",
      "  return values[idx]\n",
      "/usr/lib/python2.7/dist-packages/scipy/stats/stats.py:1367: DeprecationWarning: using a non-integer number instead of an integer will result in an error in the future\n",
      "  return values[idx]\n"
     ]
    },
    {
     "data": {
      "image/png": "[encoded data removed]",
      "text/plain": [
       "<matplotlib.figure.Figure at 0x8b2b650>"
      ]
     },
     "metadata": {},
     "output_type": "display_data"
    }
   ],
   "source": [
    "sns.set_context('notebook', font_scale=1.8)\n",
    "fig = plt.figure(figsize=(10,10))\n",
    "sns.violinplot(plot_list, color=pal[1:], names=names, saturation=1)\n",
    "sns.axlabel('cluster #','T1 value', fontsize=22)\n",
    "savefig(fig_file)"
   ]
  },
  {
   "cell_type": "raw",
   "metadata": {},
   "source": [
    "mlab.figure(bgcolor=(1, 1, 1))\n",
    "img = mlab.triangular_mesh(xt,yt,zt,trianglest,scalars=clust, colormap='Set2')\n",
    "lut = img.module_manager.scalar_lut_manager.lut.table.to_array()\n",
    "img.module_manager.scalar_lut_manager.lut.table = pal_255\n",
    "mlab.draw()\n",
    "mlab.show()"
   ]
  },
  {
   "cell_type": "markdown",
   "metadata": {},
   "source": [
    "Variance comparison"
   ]
  },
  {
   "cell_type": "code",
   "execution_count": 17,
   "metadata": {
    "collapsed": false
   },
   "outputs": [
    {
     "data": {
      "text/html": [
       "<div style=\"max-height:1000px;max-width:1500px;overflow:auto;\">\n",
       "<table border=\"1\" class=\"dataframe\">\n",
       "  <thead>\n",
       "    <tr style=\"text-align: right;\">\n",
       "      <th></th>\n",
       "      <th>1</th>\n",
       "      <th>2</th>\n",
       "      <th>3</th>\n",
       "      <th>4</th>\n",
       "      <th>5</th>\n",
       "      <th>6</th>\n",
       "      <th>7</th>\n",
       "      <th>8</th>\n",
       "      <th>9</th>\n",
       "    </tr>\n",
       "  </thead>\n",
       "  <tbody>\n",
       "    <tr>\n",
       "      <th>W</th>\n",
       "      <td>1.37e+02</td>\n",
       "      <td>1.14e+01</td>\n",
       "      <td>3.31e+00</td>\n",
       "      <td>1.78e-02</td>\n",
       "      <td>1.35e+01</td>\n",
       "      <td>9.11e+00</td>\n",
       "      <td>9.47e+01</td>\n",
       "      <td>2.78e+01</td>\n",
       "      <td>2.85e+01</td>\n",
       "    </tr>\n",
       "    <tr>\n",
       "      <th>p</th>\n",
       "      <td>2.10e-31</td>\n",
       "      <td>7.39e-04</td>\n",
       "      <td>6.88e-02</td>\n",
       "      <td>8.94e-01</td>\n",
       "      <td>2.45e-04</td>\n",
       "      <td>2.55e-03</td>\n",
       "      <td>3.26e-22</td>\n",
       "      <td>1.41e-07</td>\n",
       "      <td>9.85e-08</td>\n",
       "    </tr>\n",
       "    <tr>\n",
       "      <th>var k</th>\n",
       "      <td>2.04e+04</td>\n",
       "      <td>2.78e+04</td>\n",
       "      <td>3.84e+04</td>\n",
       "      <td>3.94e+04</td>\n",
       "      <td>2.70e+04</td>\n",
       "      <td>2.78e+04</td>\n",
       "      <td>2.06e+04</td>\n",
       "      <td>2.72e+04</td>\n",
       "      <td>3.27e+04</td>\n",
       "    </tr>\n",
       "    <tr>\n",
       "      <th>var other</th>\n",
       "      <td>3.72e+04</td>\n",
       "      <td>3.61e+04</td>\n",
       "      <td>3.62e+04</td>\n",
       "      <td>3.63e+04</td>\n",
       "      <td>3.71e+04</td>\n",
       "      <td>3.44e+04</td>\n",
       "      <td>3.75e+04</td>\n",
       "      <td>3.70e+04</td>\n",
       "      <td>3.63e+04</td>\n",
       "    </tr>\n",
       "    <tr>\n",
       "      <th>p&lt;0.05/k</th>\n",
       "      <td>1.00e+00</td>\n",
       "      <td>1.00e+00</td>\n",
       "      <td>0.00e+00</td>\n",
       "      <td>0.00e+00</td>\n",
       "      <td>1.00e+00</td>\n",
       "      <td>1.00e+00</td>\n",
       "      <td>1.00e+00</td>\n",
       "      <td>1.00e+00</td>\n",
       "      <td>1.00e+00</td>\n",
       "    </tr>\n",
       "    <tr>\n",
       "      <th>var decrease</th>\n",
       "      <td>1.00e+00</td>\n",
       "      <td>1.00e+00</td>\n",
       "      <td>0.00e+00</td>\n",
       "      <td>0.00e+00</td>\n",
       "      <td>1.00e+00</td>\n",
       "      <td>1.00e+00</td>\n",
       "      <td>1.00e+00</td>\n",
       "      <td>1.00e+00</td>\n",
       "      <td>1.00e+00</td>\n",
       "    </tr>\n",
       "  </tbody>\n",
       "</table>\n",
       "</div>"
      ],
      "text/plain": [
       "                    1        2        3        4        5        6        7  \\\n",
       "W            1.37e+02 1.14e+01 3.31e+00 1.78e-02 1.35e+01 9.11e+00 9.47e+01   \n",
       "p            2.10e-31 7.39e-04 6.88e-02 8.94e-01 2.45e-04 2.55e-03 3.26e-22   \n",
       "var k        2.04e+04 2.78e+04 3.84e+04 3.94e+04 2.70e+04 2.78e+04 2.06e+04   \n",
       "var other    3.72e+04 3.61e+04 3.62e+04 3.63e+04 3.71e+04 3.44e+04 3.75e+04   \n",
       "p<0.05/k     1.00e+00 1.00e+00 0.00e+00 0.00e+00 1.00e+00 1.00e+00 1.00e+00   \n",
       "var decrease 1.00e+00 1.00e+00 0.00e+00 0.00e+00 1.00e+00 1.00e+00 1.00e+00   \n",
       "\n",
       "                    8        9  \n",
       "W            2.78e+01 2.85e+01  \n",
       "p            1.41e-07 9.85e-08  \n",
       "var k        2.72e+04 3.27e+04  \n",
       "var other    3.70e+04 3.63e+04  \n",
       "p<0.05/k     1.00e+00 1.00e+00  \n",
       "var decrease 1.00e+00 1.00e+00  "
      ]
     },
     "execution_count": 17,
     "metadata": {},
     "output_type": "execute_result"
    }
   ],
   "source": [
    "pd.options.display.float_format = '{:,.2e}'.format\n",
    "levene_df"
   ]
  },
  {
   "cell_type": "code",
   "execution_count": 18,
   "metadata": {
    "collapsed": false
   },
   "outputs": [
    {
     "data": {
      "text/html": [
       "<div style=\"max-height:1000px;max-width:1500px;overflow:auto;\">\n",
       "<table border=\"1\" class=\"dataframe\">\n",
       "  <thead>\n",
       "    <tr style=\"text-align: right;\">\n",
       "      <th></th>\n",
       "      <th>1</th>\n",
       "      <th>2</th>\n",
       "      <th>3</th>\n",
       "      <th>4</th>\n",
       "      <th>5</th>\n",
       "      <th>6</th>\n",
       "      <th>7</th>\n",
       "      <th>8</th>\n",
       "      <th>9</th>\n",
       "    </tr>\n",
       "  </thead>\n",
       "  <tbody>\n",
       "    <tr>\n",
       "      <th>p&lt;0.05/k</th>\n",
       "      <td>1</td>\n",
       "      <td>1</td>\n",
       "      <td>0</td>\n",
       "      <td>0</td>\n",
       "      <td>1</td>\n",
       "      <td>1</td>\n",
       "      <td>1</td>\n",
       "      <td>1</td>\n",
       "      <td>1</td>\n",
       "    </tr>\n",
       "    <tr>\n",
       "      <th>var decrease</th>\n",
       "      <td>1</td>\n",
       "      <td>1</td>\n",
       "      <td>0</td>\n",
       "      <td>0</td>\n",
       "      <td>1</td>\n",
       "      <td>1</td>\n",
       "      <td>1</td>\n",
       "      <td>1</td>\n",
       "      <td>1</td>\n",
       "    </tr>\n",
       "  </tbody>\n",
       "</table>\n",
       "</div>"
      ],
      "text/plain": [
       "              1  2  3  4  5  6  7  8  9\n",
       "p<0.05/k      1  1  0  0  1  1  1  1  1\n",
       "var decrease  1  1  0  0  1  1  1  1  1"
      ]
     },
     "execution_count": 18,
     "metadata": {},
     "output_type": "execute_result"
    }
   ],
   "source": [
    "pd.options.display.float_format = '{:,.0f}'.format\n",
    "levene_df.tail(2)"
   ]
  },
  {
   "cell_type": "code",
   "execution_count": 19,
   "metadata": {
    "collapsed": false
   },
   "outputs": [],
   "source": [
    "sig=np.zeros_like(clust)\n",
    "for i in sigk: \n",
    "    sig[clust == i] = i"
   ]
  },
  {
   "cell_type": "code",
   "execution_count": 20,
   "metadata": {
    "collapsed": false
   },
   "outputs": [
    {
     "data": {
      "text/plain": [
       "[1, 2, 5, 6, 7, 8, 9]"
      ]
     },
     "execution_count": 20,
     "metadata": {},
     "output_type": "execute_result"
    }
   ],
   "source": [
    "sigk"
   ]
  },
  {
   "cell_type": "code",
   "execution_count": 21,
   "metadata": {
    "collapsed": false
   },
   "outputs": [
    {
     "name": "stdout",
     "output_type": "stream",
     "text": [
      "0.74446038578\n"
     ]
    }
   ],
   "source": [
    "allcort=np.where(clust!=0)[0].shape[0]\n",
    "sigcort=np.where(sig!=0)[0].shape[0]\n",
    "sigpart=sigcort/allcort\n",
    "print float(sigpart)"
   ]
  },
  {
   "cell_type": "code",
   "execution_count": 22,
   "metadata": {
    "collapsed": false
   },
   "outputs": [
    {
     "name": "stderr",
     "output_type": "stream",
     "text": [
      "/usr/lib/python2.7/dist-packages/traits/has_traits.py:1928: FutureWarning: comparison to `None` will result in an elementwise object comparison in the future.\n",
      "  setattr( self, name, value )\n"
     ]
    }
   ],
   "source": [
    "mlab.figure(bgcolor=(1, 1, 1))\n",
    "img = mlab.triangular_mesh(xt,yt,zt,trianglest,scalars=sig, colormap='Set2')\n",
    "lut = img.module_manager.scalar_lut_manager.lut.table.to_array()\n",
    "img.module_manager.scalar_lut_manager.lut.table = pal_255\n",
    "mlab.draw()\n",
    "mlab.show()"
   ]
  },
  {
   "cell_type": "markdown",
   "metadata": {},
   "source": [
    "T test (T values, p values)"
   ]
  },
  {
   "cell_type": "code",
   "execution_count": 23,
   "metadata": {
    "collapsed": false
   },
   "outputs": [
    {
     "data": {
      "text/html": [
       "<div style=\"max-height:1000px;max-width:1500px;overflow:auto;\">\n",
       "<table border=\"1\" class=\"dataframe\">\n",
       "  <thead>\n",
       "    <tr style=\"text-align: right;\">\n",
       "      <th></th>\n",
       "      <th>1</th>\n",
       "      <th>2</th>\n",
       "      <th>3</th>\n",
       "      <th>4</th>\n",
       "      <th>5</th>\n",
       "      <th>6</th>\n",
       "      <th>7</th>\n",
       "      <th>8</th>\n",
       "      <th>9</th>\n",
       "    </tr>\n",
       "  </thead>\n",
       "  <tbody>\n",
       "    <tr>\n",
       "      <th>1</th>\n",
       "      <td>0.00</td>\n",
       "      <td>27.08</td>\n",
       "      <td> 11.95</td>\n",
       "      <td>14.46</td>\n",
       "      <td>10.80</td>\n",
       "      <td>33.36</td>\n",
       "      <td>  2.24</td>\n",
       "      <td>22.98</td>\n",
       "      <td>  3.46</td>\n",
       "    </tr>\n",
       "    <tr>\n",
       "      <th>2</th>\n",
       "      <td>0.00</td>\n",
       "      <td> 0.00</td>\n",
       "      <td>-12.81</td>\n",
       "      <td>-6.34</td>\n",
       "      <td>-9.63</td>\n",
       "      <td> 4.42</td>\n",
       "      <td>-22.89</td>\n",
       "      <td>-3.70</td>\n",
       "      <td>-18.69</td>\n",
       "    </tr>\n",
       "    <tr>\n",
       "      <th>3</th>\n",
       "      <td>0.00</td>\n",
       "      <td> 0.00</td>\n",
       "      <td>  0.00</td>\n",
       "      <td> 4.08</td>\n",
       "      <td> 0.97</td>\n",
       "      <td>17.85</td>\n",
       "      <td> -8.69</td>\n",
       "      <td> 9.29</td>\n",
       "      <td> -6.60</td>\n",
       "    </tr>\n",
       "    <tr>\n",
       "      <th>4</th>\n",
       "      <td>0.00</td>\n",
       "      <td> 0.00</td>\n",
       "      <td>  0.00</td>\n",
       "      <td> 0.00</td>\n",
       "      <td>-2.60</td>\n",
       "      <td>10.14</td>\n",
       "      <td>-11.74</td>\n",
       "      <td> 3.40</td>\n",
       "      <td> -9.17</td>\n",
       "    </tr>\n",
       "    <tr>\n",
       "      <th>5</th>\n",
       "      <td>0.00</td>\n",
       "      <td> 0.00</td>\n",
       "      <td>  0.00</td>\n",
       "      <td> 0.00</td>\n",
       "      <td> 0.00</td>\n",
       "      <td>13.50</td>\n",
       "      <td> -8.57</td>\n",
       "      <td> 6.67</td>\n",
       "      <td> -6.24</td>\n",
       "    </tr>\n",
       "    <tr>\n",
       "      <th>6</th>\n",
       "      <td>0.00</td>\n",
       "      <td> 0.00</td>\n",
       "      <td>  0.00</td>\n",
       "      <td> 0.00</td>\n",
       "      <td> 0.00</td>\n",
       "      <td> 0.00</td>\n",
       "      <td>-28.42</td>\n",
       "      <td>-8.29</td>\n",
       "      <td>-23.60</td>\n",
       "    </tr>\n",
       "    <tr>\n",
       "      <th>7</th>\n",
       "      <td>0.00</td>\n",
       "      <td> 0.00</td>\n",
       "      <td>  0.00</td>\n",
       "      <td> 0.00</td>\n",
       "      <td> 0.00</td>\n",
       "      <td> 0.00</td>\n",
       "      <td>  0.00</td>\n",
       "      <td>19.11</td>\n",
       "      <td>  1.35</td>\n",
       "    </tr>\n",
       "    <tr>\n",
       "      <th>8</th>\n",
       "      <td>0.00</td>\n",
       "      <td> 0.00</td>\n",
       "      <td>  0.00</td>\n",
       "      <td> 0.00</td>\n",
       "      <td> 0.00</td>\n",
       "      <td> 0.00</td>\n",
       "      <td>  0.00</td>\n",
       "      <td> 0.00</td>\n",
       "      <td>-15.40</td>\n",
       "    </tr>\n",
       "    <tr>\n",
       "      <th>9</th>\n",
       "      <td>0.00</td>\n",
       "      <td> 0.00</td>\n",
       "      <td>  0.00</td>\n",
       "      <td> 0.00</td>\n",
       "      <td> 0.00</td>\n",
       "      <td> 0.00</td>\n",
       "      <td>  0.00</td>\n",
       "      <td> 0.00</td>\n",
       "      <td>  0.00</td>\n",
       "    </tr>\n",
       "  </tbody>\n",
       "</table>\n",
       "</div>"
      ],
      "text/plain": [
       "     1     2      3     4     5     6      7     8      9\n",
       "1 0.00 27.08  11.95 14.46 10.80 33.36   2.24 22.98   3.46\n",
       "2 0.00  0.00 -12.81 -6.34 -9.63  4.42 -22.89 -3.70 -18.69\n",
       "3 0.00  0.00   0.00  4.08  0.97 17.85  -8.69  9.29  -6.60\n",
       "4 0.00  0.00   0.00  0.00 -2.60 10.14 -11.74  3.40  -9.17\n",
       "5 0.00  0.00   0.00  0.00  0.00 13.50  -8.57  6.67  -6.24\n",
       "6 0.00  0.00   0.00  0.00  0.00  0.00 -28.42 -8.29 -23.60\n",
       "7 0.00  0.00   0.00  0.00  0.00  0.00   0.00 19.11   1.35\n",
       "8 0.00  0.00   0.00  0.00  0.00  0.00   0.00  0.00 -15.40\n",
       "9 0.00  0.00   0.00  0.00  0.00  0.00   0.00  0.00   0.00"
      ]
     },
     "execution_count": 23,
     "metadata": {},
     "output_type": "execute_result"
    }
   ],
   "source": [
    "pd.options.display.float_format = '{:,.2f}'.format\n",
    "t_df"
   ]
  },
  {
   "cell_type": "code",
   "execution_count": 24,
   "metadata": {
    "collapsed": false
   },
   "outputs": [
    {
     "data": {
      "text/html": [
       "<div style=\"max-height:1000px;max-width:1500px;overflow:auto;\">\n",
       "<table border=\"1\" class=\"dataframe\">\n",
       "  <thead>\n",
       "    <tr style=\"text-align: right;\">\n",
       "      <th></th>\n",
       "      <th>1</th>\n",
       "      <th>2</th>\n",
       "      <th>3</th>\n",
       "      <th>4</th>\n",
       "      <th>5</th>\n",
       "      <th>6</th>\n",
       "      <th>7</th>\n",
       "      <th>8</th>\n",
       "      <th>9</th>\n",
       "    </tr>\n",
       "  </thead>\n",
       "  <tbody>\n",
       "    <tr>\n",
       "      <th>1</th>\n",
       "      <td>1.00e+00</td>\n",
       "      <td>6.44e-133</td>\n",
       "      <td>7.39e-32</td>\n",
       "      <td>3.32e-44</td>\n",
       "      <td>4.32e-26</td>\n",
       "      <td>8.47e-187</td>\n",
       "      <td> 2.52e-02</td>\n",
       "      <td>3.12e-101</td>\n",
       "      <td> 5.54e-04</td>\n",
       "    </tr>\n",
       "    <tr>\n",
       "      <th>2</th>\n",
       "      <td>0.00e+00</td>\n",
       "      <td> 1.00e+00</td>\n",
       "      <td>7.18e-36</td>\n",
       "      <td>3.50e-10</td>\n",
       "      <td>5.84e-21</td>\n",
       "      <td> 1.10e-05</td>\n",
       "      <td> 2.07e-97</td>\n",
       "      <td> 2.28e-04</td>\n",
       "      <td> 9.43e-69</td>\n",
       "    </tr>\n",
       "    <tr>\n",
       "      <th>3</th>\n",
       "      <td>0.00e+00</td>\n",
       "      <td> 0.00e+00</td>\n",
       "      <td>1.00e+00</td>\n",
       "      <td>4.71e-05</td>\n",
       "      <td>3.32e-01</td>\n",
       "      <td> 2.07e-65</td>\n",
       "      <td> 8.09e-18</td>\n",
       "      <td> 4.84e-20</td>\n",
       "      <td> 5.34e-11</td>\n",
       "    </tr>\n",
       "    <tr>\n",
       "      <th>4</th>\n",
       "      <td>0.00e+00</td>\n",
       "      <td> 0.00e+00</td>\n",
       "      <td>0.00e+00</td>\n",
       "      <td>1.00e+00</td>\n",
       "      <td>9.47e-03</td>\n",
       "      <td> 4.21e-23</td>\n",
       "      <td> 5.15e-30</td>\n",
       "      <td> 6.97e-04</td>\n",
       "      <td> 2.49e-19</td>\n",
       "    </tr>\n",
       "    <tr>\n",
       "      <th>5</th>\n",
       "      <td>0.00e+00</td>\n",
       "      <td> 0.00e+00</td>\n",
       "      <td>0.00e+00</td>\n",
       "      <td>0.00e+00</td>\n",
       "      <td>1.00e+00</td>\n",
       "      <td> 3.33e-38</td>\n",
       "      <td> 3.97e-17</td>\n",
       "      <td> 4.51e-11</td>\n",
       "      <td> 6.71e-10</td>\n",
       "    </tr>\n",
       "    <tr>\n",
       "      <th>6</th>\n",
       "      <td>0.00e+00</td>\n",
       "      <td> 0.00e+00</td>\n",
       "      <td>0.00e+00</td>\n",
       "      <td>0.00e+00</td>\n",
       "      <td>0.00e+00</td>\n",
       "      <td> 1.00e+00</td>\n",
       "      <td>1.38e-139</td>\n",
       "      <td> 2.88e-16</td>\n",
       "      <td>1.31e-102</td>\n",
       "    </tr>\n",
       "    <tr>\n",
       "      <th>7</th>\n",
       "      <td>0.00e+00</td>\n",
       "      <td> 0.00e+00</td>\n",
       "      <td>0.00e+00</td>\n",
       "      <td>0.00e+00</td>\n",
       "      <td>0.00e+00</td>\n",
       "      <td> 0.00e+00</td>\n",
       "      <td> 1.00e+00</td>\n",
       "      <td> 6.51e-72</td>\n",
       "      <td> 1.78e-01</td>\n",
       "    </tr>\n",
       "    <tr>\n",
       "      <th>8</th>\n",
       "      <td>0.00e+00</td>\n",
       "      <td> 0.00e+00</td>\n",
       "      <td>0.00e+00</td>\n",
       "      <td>0.00e+00</td>\n",
       "      <td>0.00e+00</td>\n",
       "      <td> 0.00e+00</td>\n",
       "      <td> 0.00e+00</td>\n",
       "      <td> 1.00e+00</td>\n",
       "      <td> 4.42e-49</td>\n",
       "    </tr>\n",
       "    <tr>\n",
       "      <th>9</th>\n",
       "      <td>0.00e+00</td>\n",
       "      <td> 0.00e+00</td>\n",
       "      <td>0.00e+00</td>\n",
       "      <td>0.00e+00</td>\n",
       "      <td>0.00e+00</td>\n",
       "      <td> 0.00e+00</td>\n",
       "      <td> 0.00e+00</td>\n",
       "      <td> 0.00e+00</td>\n",
       "      <td> 1.00e+00</td>\n",
       "    </tr>\n",
       "  </tbody>\n",
       "</table>\n",
       "</div>"
      ],
      "text/plain": [
       "         1         2        3        4        5         6         7         8  \\\n",
       "1 1.00e+00 6.44e-133 7.39e-32 3.32e-44 4.32e-26 8.47e-187  2.52e-02 3.12e-101   \n",
       "2 0.00e+00  1.00e+00 7.18e-36 3.50e-10 5.84e-21  1.10e-05  2.07e-97  2.28e-04   \n",
       "3 0.00e+00  0.00e+00 1.00e+00 4.71e-05 3.32e-01  2.07e-65  8.09e-18  4.84e-20   \n",
       "4 0.00e+00  0.00e+00 0.00e+00 1.00e+00 9.47e-03  4.21e-23  5.15e-30  6.97e-04   \n",
       "5 0.00e+00  0.00e+00 0.00e+00 0.00e+00 1.00e+00  3.33e-38  3.97e-17  4.51e-11   \n",
       "6 0.00e+00  0.00e+00 0.00e+00 0.00e+00 0.00e+00  1.00e+00 1.38e-139  2.88e-16   \n",
       "7 0.00e+00  0.00e+00 0.00e+00 0.00e+00 0.00e+00  0.00e+00  1.00e+00  6.51e-72   \n",
       "8 0.00e+00  0.00e+00 0.00e+00 0.00e+00 0.00e+00  0.00e+00  0.00e+00  1.00e+00   \n",
       "9 0.00e+00  0.00e+00 0.00e+00 0.00e+00 0.00e+00  0.00e+00  0.00e+00  0.00e+00   \n",
       "\n",
       "          9  \n",
       "1  5.54e-04  \n",
       "2  9.43e-69  \n",
       "3  5.34e-11  \n",
       "4  2.49e-19  \n",
       "5  6.71e-10  \n",
       "6 1.31e-102  \n",
       "7  1.78e-01  \n",
       "8  4.42e-49  \n",
       "9  1.00e+00  "
      ]
     },
     "execution_count": 24,
     "metadata": {},
     "output_type": "execute_result"
    }
   ],
   "source": [
    "pd.options.display.float_format = '{:,.2e}'.format\n",
    "p_df"
   ]
  }
 ],
 "metadata": {
  "kernelspec": {
   "display_name": "Python 2",
   "language": "python",
   "name": "python2"
  },
  "language_info": {
   "codemirror_mode": {
    "name": "ipython",
    "version": 2
   },
   "file_extension": ".py",
   "mimetype": "text/x-python",
   "name": "python",
   "nbconvert_exporter": "python",
   "pygments_lexer": "ipython2",
   "version": "2.7.3"
  }
 },
 "nbformat": 4,
 "nbformat_minor": 0
}
