{
 "cells": [
  {
   "cell_type": "code",
   "execution_count": 1,
   "metadata": {
    "collapsed": true
   },
   "outputs": [],
   "source": [
    "%matplotlib inline"
   ]
  },
  {
   "cell_type": "code",
   "execution_count": 2,
   "metadata": {
    "collapsed": false
   },
   "outputs": [
    {
     "name": "stderr",
     "output_type": "stream",
     "text": [
      "/home/raid3/huntenburg/workspace/anaconda2/envs/myelinconnect/lib/python2.7/site-packages/IPython/html.py:14: ShimWarning: The `IPython.html` package has been deprecated. You should import from `notebook` instead. `IPython.html.widgets` has moved to `ipywidgets`.\n",
      "  \"`IPython.html.widgets` has moved to `ipywidgets`.\", ShimWarning)\n"
     ]
    }
   ],
   "source": [
    "from __future__ import division\n",
    "import numpy as np\n",
    "import pandas as pd\n",
    "import matplotlib.pyplot as plt\n",
    "from vtk_rw import read_vtk\n",
    "import seaborn as sns"
   ]
  },
  {
   "cell_type": "markdown",
   "metadata": {},
   "source": [
    "### calculated from mesh"
   ]
  },
  {
   "cell_type": "markdown",
   "metadata": {},
   "source": [
    "https://sites.google.com/site/dlampetest/python/calculating-normals-of-a-triangle-mesh-using-numpy"
   ]
  },
  {
   "cell_type": "code",
   "execution_count": 32,
   "metadata": {
    "collapsed": true
   },
   "outputs": [],
   "source": [
    "def calculate_normals(vertices, faces):\n",
    "    \n",
    "    triangles = vertices[faces]\n",
    "    face_normals = np.cross( triangles[::,1 ] - triangles[::,0]  , triangles[::,2 ] - triangles[::,0] )\n",
    "    face_normals /= 2 # weighting by surface area of the triangle, which is half the length of the normal\n",
    "    \n",
    "    vertex_normals = np.zeros(vertices.shape, dtype=vertices.dtype)\n",
    "    vertex_count = np.zeros(vertices.shape[0])\n",
    "    \n",
    "    for face in range(faces.shape[0]):\n",
    "        vertex_normals[faces[face]] += face_normals[face]\n",
    "        vertex_count[faces[face]] += 1\n",
    "   \n",
    "    # here divide by actual number of faces, then normalize in the compare function\n",
    "    vertex_normals /= vertex_count[:, np.newaxis]\n",
    "    \n",
    "    return vertex_normals"
   ]
  },
  {
   "cell_type": "markdown",
   "metadata": {},
   "source": [
    "### from meshlab in object file"
   ]
  },
  {
   "cell_type": "code",
   "execution_count": 5,
   "metadata": {
    "collapsed": false
   },
   "outputs": [],
   "source": [
    "def read_obj(obj_file):\n",
    "    obj_df=pd.read_csv(obj_file, header=None, engine='python', comment='#', sep=' ')\n",
    "    obj_df=obj_df.dropna()\n",
    "\n",
    "    vertex_df = obj_df.loc[np.where(obj_df[0] == 'v')[0]][[1,2,3]]\n",
    "    vertex_array = np.asarray(vertex_df, dtype='float')\n",
    "\n",
    "    if 'vn' in list(obj_df[0]):\n",
    "        normals_df = obj_df.loc[np.where(obj_df[0] == 'vn')[0]][[1,2,3]]\n",
    "        normals_array = np.asarray(normals_df, dtype='float')\n",
    "    else:\n",
    "        normals_array = np.empty(0)\n",
    "\n",
    "    faces_df = obj_df.loc[np.where(obj_df[0] == 'f')[0]][[1,2,3]]\n",
    "    faces_array = np.asarray(faces_df).copy()\n",
    "    for i in range(faces_array.shape[0]):\n",
    "        for j in range(faces_array.shape[1]):\n",
    "            faces_array[i][j]=int(faces_array[i][j].split('//')[0])\n",
    "    faces_array = np.asarray(faces_array, dtype='int64')-1\n",
    "    \n",
    "    return vertex_array, faces_array, normals_array"
   ]
  },
  {
   "cell_type": "markdown",
   "metadata": {},
   "source": [
    "### comparing normals"
   ]
  },
  {
   "cell_type": "code",
   "execution_count": 83,
   "metadata": {
    "collapsed": false
   },
   "outputs": [],
   "source": [
    "def compare_normals(normals_a, normals_b):\n",
    "    \n",
    "    # normalize normals\n",
    "    normals_a /= np.linalg.norm(normals_a, axis=1)[:,np.newaxis]\n",
    "    normals_b /= np.linalg.norm(normals_b, axis=1)[:,np.newaxis]\n",
    "    \n",
    "    if np.any(np.isnan(normals_a)):\n",
    "        raise ValueError('NaN in first set of normals')\n",
    "    elif np.any(np.isnan(normals_b)):\n",
    "        raise ValueError('NaN in second set of normals')\n",
    "    else:\n",
    "        pass\n",
    "    \n",
    "    # calculate angle between each pair of normals in radians\n",
    "    diff_dot = np.zeros((normals_a.shape[0],))\n",
    "    diff_rad = np.zeros((normals_a.shape[0],))\n",
    "    for i in range(normals_a.shape[0]):\n",
    "        diff_dot[i] = np.dot(normals_a[i], normals_b[i])\n",
    "    # if the dot product ends up being a very small float point bigger than 1, np.arccos returns NaN\n",
    "    # therefore set those cases to 1\n",
    "    diff_dot[np.where(diff_dot>1)] = 1.\n",
    "    diff_rad = np.arccos(diff_dot)\n",
    "    \n",
    "    # transform to degree angle\n",
    "    diff_deg = diff_rad  * (180/np.pi)\n",
    "    \n",
    "    return diff_rad, diff_deg"
   ]
  },
  {
   "cell_type": "code",
   "execution_count": 84,
   "metadata": {
    "collapsed": false
   },
   "outputs": [],
   "source": [
    "simple_v, simple_f, obj_simple_normals = read_obj('/scr/ilz3/myelinconnect/groupavg/indv_space/BP4T/lowres_rh_d_def.obj')"
   ]
  },
  {
   "cell_type": "code",
   "execution_count": 85,
   "metadata": {
    "collapsed": false
   },
   "outputs": [],
   "source": [
    "calc_simple_normals = calculate_normals(simple_v, simple_f)"
   ]
  },
  {
   "cell_type": "code",
   "execution_count": 86,
   "metadata": {
    "collapsed": true
   },
   "outputs": [],
   "source": [
    "complex_v, complex_f, obj_complex_normals = read_obj('/scr/ilz3/myelinconnect/struct/surf_rh/orig/mid_surface/BP4T_rh_mid.obj')"
   ]
  },
  {
   "cell_type": "code",
   "execution_count": 87,
   "metadata": {
    "collapsed": true
   },
   "outputs": [],
   "source": [
    "calc_complex_normals = calculate_normals(complex_v, complex_f)"
   ]
  },
  {
   "cell_type": "code",
   "execution_count": 88,
   "metadata": {
    "collapsed": true
   },
   "outputs": [],
   "source": [
    "seed_mapping = np.load('/scr/ilz3/myelinconnect/all_data_on_simple_surf/seeds/BP4T_rh_highres2lowres_seeds.npy')"
   ]
  },
  {
   "cell_type": "code",
   "execution_count": 89,
   "metadata": {
    "collapsed": false
   },
   "outputs": [],
   "source": [
    "obj_diff_rad, obj_diff_deg = compare_normals(obj_simple_normals, obj_complex_normals[seed_mapping])"
   ]
  },
  {
   "cell_type": "code",
   "execution_count": 90,
   "metadata": {
    "collapsed": false
   },
   "outputs": [],
   "source": [
    "calc_diff_rad, calc_diff_deg = compare_normals(calc_simple_normals, calc_complex_normals[seed_mapping])"
   ]
  },
  {
   "cell_type": "code",
   "execution_count": 91,
   "metadata": {
    "collapsed": false
   },
   "outputs": [
    {
     "data": {
      "image/png": "[encoded data removed]",
      "text/plain": [
       "<matplotlib.figure.Figure at 0x7f67cb925650>"
      ]
     },
     "metadata": {},
     "output_type": "display_data"
    }
   ],
   "source": [
    "plt.hist(obj_diff_deg, bins=20, alpha=0.8);\n",
    "plt.hist(calc_diff_deg, bins=20, alpha=0.3, color='darkred');"
   ]
  },
  {
   "cell_type": "code",
   "execution_count": 92,
   "metadata": {
    "collapsed": false
   },
   "outputs": [
    {
     "data": {
      "image/png": "[encoded data removed]",
      "text/plain": [
       "<matplotlib.figure.Figure at 0x7f679ac7db50>"
      ]
     },
     "metadata": {},
     "output_type": "display_data"
    }
   ],
   "source": [
    "plt.hist(calc_diff_deg-obj_diff_deg, bins=20, alpha=0.3, color='darkred');"
   ]
  },
  {
   "cell_type": "code",
   "execution_count": 93,
   "metadata": {
    "collapsed": false
   },
   "outputs": [],
   "source": [
    "simple_calc_vs_obj_rad, simple_calc_vs_obj_deg = compare_normals(obj_simple_normals, calc_simple_normals)"
   ]
  },
  {
   "cell_type": "code",
   "execution_count": 94,
   "metadata": {
    "collapsed": false
   },
   "outputs": [],
   "source": [
    "complex_calc_vs_obj_rad, complex_calc_vs_obj_deg = compare_normals(obj_complex_normals, calc_complex_normals)"
   ]
  },
  {
   "cell_type": "code",
   "execution_count": 97,
   "metadata": {
    "collapsed": false
   },
   "outputs": [
    {
     "data": {
      "image/png": "[encoded data removed]",
      "text/plain": [
       "<matplotlib.figure.Figure at 0x7f67cb9580d0>"
      ]
     },
     "metadata": {},
     "output_type": "display_data"
    }
   ],
   "source": [
    "plt.hist(simple_calc_vs_obj_deg, bins=20);"
   ]
  },
  {
   "cell_type": "code",
   "execution_count": 98,
   "metadata": {
    "collapsed": false
   },
   "outputs": [
    {
     "data": {
      "image/png": "[encoded data removed]",
      "text/plain": [
       "<matplotlib.figure.Figure at 0x7f67cb8b3310>"
      ]
     },
     "metadata": {},
     "output_type": "display_data"
    }
   ],
   "source": [
    "plt.hist(complex_calc_vs_obj_deg, bins=20);"
   ]
  },
  {
   "cell_type": "markdown",
   "metadata": {
    "collapsed": true
   },
   "source": [
    "### updating voronoi function to take into account normals"
   ]
  },
  {
   "cell_type": "code",
   "execution_count": null,
   "metadata": {
    "collapsed": false
   },
   "outputs": [],
   "source": [
    "simple_vertices=simple_v\n",
    "simple_faces=simple_f\n",
    "complex_vertices=complex_v\n",
    "complex_faces=complex_f"
   ]
  },
  {
   "cell_type": "code",
   "execution_count": null,
   "metadata": {
    "collapsed": true
   },
   "outputs": [],
   "source": [
    "cutoff_angle = np.pi/2"
   ]
  },
  {
   "cell_type": "code",
   "execution_count": null,
   "metadata": {
    "collapsed": false
   },
   "outputs": [],
   "source": [
    "# find nearest neighbours of simple vertices on complex mesh using kdtree\n",
    "inaccuracy, mapping  = spatial.KDTree(complex_vertices).query(simple_vertices[remaining_idxs], k=neighbours)\n",
    "\n",
    "# create tidy long-format lists\n",
    "simple_idxs = np.asarray([neighbours*[simple_idx] for simple_idx in remaining_idxs]).flatten()\n",
    "candidate_idxs = mapping.flatten()\n",
    "diff_euclid = inaccuracy.flatten()\n",
    "\n",
    "# for each vertex pair calculate the angle between their normals\n",
    "diff_normals, _ = compare_normals(simple_normals[simple_idxs], complex_normals[candidate_idxs])\n",
    "\n",
    "# remove those pairs that have an angle > 90° and/or distance > 2 mm\n",
    "mask = np.unique(np.concatenate((np.where(diff_euclid>cutoff_euclid)[0], np.where(diff_normals>cutoff_rad)[0])))\n",
    "diff_normals = np.delete(diff_normals, mask)\n",
    "diff_euclid = np.delete(diff_euclid, mask)\n",
    "simple_idxs = np.delete(simple_idxs, mask)\n",
    "candidate_idxs = np.delete(candidate_idxs, mask)\n",
    "\n",
    "# calculate scores for each vertex pair\n",
    "scores = (diff_normals-np.mean(diff_normals)) + (diff_euclid-np.mean(diff_euclid))\n",
    "\n",
    "# make a binary search tree from the scores and vertex pairs, \n",
    "# organisation is key: score, values: tuple(simple_vertex, candiate_complex_vertex)\n",
    "tree = FastAVLTree(zip(scores, zip(simple_idxs, candidate_idxs)))\n",
    "\n",
    "while tree.count > 0:\n",
    "\n",
    "    min_item =  tree.pop_min()\n",
    "    simple_idx = min_item[1][0]\n",
    "    candidate_idx = min_item[1][1]\n",
    "\n",
    "    if (voronoi_seed_idx[simple_idx] == -1):\n",
    "        if candidate_idx not in voronoi_seed_idx:\n",
    "            voronoi_seed_idx[simple_idx] = candidate_idx\n",
    "        else:\n",
    "            pass\n",
    "    else:\n",
    "        pass\n",
    "\n",
    "    missing = np.where(voronoi_seed_idx==-1)[0].shape[0]\n",
    "    if missing == 0:\n",
    "        break"
   ]
  },
  {
   "cell_type": "code",
   "execution_count": null,
   "metadata": {
    "collapsed": false
   },
   "outputs": [],
   "source": [
    "plt.hist(diff_normals-np.mean(diff_normals), alpha=0.5, bins=20)\n",
    "plt.hist((diff_euclid-np.mean(diff_euclid)), alpha=0.5, bins=20, color='darkred')"
   ]
  },
  {
   "cell_type": "code",
   "execution_count": null,
   "metadata": {
    "collapsed": true
   },
   "outputs": [],
   "source": [
    "scores = (diff_normals-np.mean(diff_normals)) + (diff_euclid-np.mean(diff_euclid))"
   ]
  },
  {
   "cell_type": "code",
   "execution_count": null,
   "metadata": {
    "collapsed": false
   },
   "outputs": [],
   "source": [
    "plt.hist(scores);"
   ]
  },
  {
   "cell_type": "code",
   "execution_count": null,
   "metadata": {
    "collapsed": true
   },
   "outputs": [],
   "source": [
    "tree = FastAVLTree(zip(scores, zip(simple_idxs, candidate_idxs)))"
   ]
  },
  {
   "cell_type": "code",
   "execution_count": null,
   "metadata": {
    "collapsed": true
   },
   "outputs": [],
   "source": [
    "voronoi_seed_idx = np.zeros((simple_vertices.shape[0],), dtype='int64')-1\n",
    "missing = np.where(voronoi_seed_idx==-1)[0].shape[0]"
   ]
  },
  {
   "cell_type": "code",
   "execution_count": null,
   "metadata": {
    "collapsed": false
   },
   "outputs": [],
   "source": [
    "min_item =  tree.pop_min()\n",
    "simple_idx = min_item[1][0]\n",
    "candidate_idx = min_item[1][1]"
   ]
  },
  {
   "cell_type": "code",
   "execution_count": null,
   "metadata": {
    "collapsed": false
   },
   "outputs": [],
   "source": [
    "simple_idx"
   ]
  },
  {
   "cell_type": "code",
   "execution_count": null,
   "metadata": {
    "collapsed": false
   },
   "outputs": [],
   "source": [
    "candidate_idx"
   ]
  },
  {
   "cell_type": "code",
   "execution_count": null,
   "metadata": {
    "collapsed": false
   },
   "outputs": [],
   "source": [
    "test_normals_simple =calculate_normals(simple_v, simple_f)\n",
    "test_normals_complex =calculate_normals(complex_v, complex_f)"
   ]
  },
  {
   "cell_type": "code",
   "execution_count": null,
   "metadata": {
    "collapsed": false
   },
   "outputs": [],
   "source": [
    "test_normal, _ = compare_normals(test_normals_simple[simple_idx][np.newaxis, :], test_normals_complex[candidate_idx][np.newaxis, :])"
   ]
  },
  {
   "cell_type": "code",
   "execution_count": null,
   "metadata": {
    "collapsed": false
   },
   "outputs": [],
   "source": [
    "test_euclid = inaccuracy[simple_idx][np.where(mapping[simple_idx]==candidate_idx)]"
   ]
  },
  {
   "cell_type": "code",
   "execution_count": null,
   "metadata": {
    "collapsed": false
   },
   "outputs": [],
   "source": [
    "test_normal - np.mean(diff_normals) + test_euclid - np.mean(diff_euclid)"
   ]
  },
  {
   "cell_type": "markdown",
   "metadata": {},
   "source": [
    "### check new mapping"
   ]
  },
  {
   "cell_type": "code",
   "execution_count": null,
   "metadata": {
    "collapsed": false
   },
   "outputs": [],
   "source": [
    "seed_mapping_fixed = np.load('/scr/ilz3/myelinconnect/all_data_on_simple_surf/seeds_fixed/BP4T_rh_highres2lowres_seeds_test.npy')"
   ]
  },
  {
   "cell_type": "code",
   "execution_count": null,
   "metadata": {
    "collapsed": true
   },
   "outputs": [],
   "source": [
    "obj_diff_rad_fixed, obj_diff_deg_fixed = compare_normals(obj_simple_normals, obj_complex_normals[seed_mapping_fixed])"
   ]
  },
  {
   "cell_type": "code",
   "execution_count": null,
   "metadata": {
    "collapsed": true
   },
   "outputs": [],
   "source": [
    "calc_diff_rad_fixed, calc_diff_deg_fixed = compare_normals(calc_simple_normals, calc_complex_normals[seed_mapping_fixed])"
   ]
  },
  {
   "cell_type": "code",
   "execution_count": null,
   "metadata": {
    "collapsed": false
   },
   "outputs": [],
   "source": [
    "plt.hist(np.nan_to_num(obj_diff_deg_fixed), bins=20, alpha=0.8);\n",
    "plt.hist(np.nan_to_num(calc_diff_deg_fixed), bins=10, alpha=0.3, color='darkred');"
   ]
  },
  {
   "cell_type": "code",
   "execution_count": null,
   "metadata": {
    "collapsed": true
   },
   "outputs": [],
   "source": []
  }
 ],
 "metadata": {
  "kernelspec": {
   "display_name": "Python 2",
   "language": "python",
   "name": "python2"
  },
  "language_info": {
   "codemirror_mode": {
    "name": "ipython",
    "version": 2
   },
   "file_extension": ".py",
   "mimetype": "text/x-python",
   "name": "python",
   "nbconvert_exporter": "python",
   "pygments_lexer": "ipython2",
   "version": "2.7.11"
  }
 },
 "nbformat": 4,
 "nbformat_minor": 0
}
