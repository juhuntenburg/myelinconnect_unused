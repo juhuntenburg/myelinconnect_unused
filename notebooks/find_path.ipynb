{
 "cells": [
  {
   "cell_type": "code",
   "execution_count": 1,
   "metadata": {
    "collapsed": true
   },
   "outputs": [],
   "source": [
    "from __future__ import division"
   ]
  },
  {
   "cell_type": "code",
   "execution_count": 1,
   "metadata": {
    "collapsed": true
   },
   "outputs": [],
   "source": [
    "%matplotlib inline"
   ]
  },
  {
   "cell_type": "code",
   "execution_count": 29,
   "metadata": {
    "collapsed": true
   },
   "outputs": [],
   "source": [
    "import numpy as np\n",
    "from vtk_rw import read_vtk, write_vtk\n",
    "from plotting import plot_surf_stat_map\n",
    "from mayavi import mlab\n",
    "from graphs import graph_from_mesh, dijkstra, shortest_path"
   ]
  },
  {
   "cell_type": "code",
   "execution_count": 3,
   "metadata": {
    "collapsed": true
   },
   "outputs": [],
   "source": [
    "v,f,d = read_vtk('/scr/ilz3/myelinconnect/all_data_on_simple_surf/surfs/lowres_rh_d.vtk')"
   ]
  },
  {
   "cell_type": "markdown",
   "metadata": {},
   "source": [
    "### from suma drawn path"
   ]
  },
  {
   "cell_type": "code",
   "execution_count": 17,
   "metadata": {
    "collapsed": true
   },
   "outputs": [],
   "source": [
    "g = graph_from_mesh(v,f, edge_length=True)"
   ]
  },
  {
   "cell_type": "code",
   "execution_count": 77,
   "metadata": {
    "collapsed": false
   },
   "outputs": [],
   "source": [
    "afni_path = np.loadtxt('/scr/ilz3/myelinconnect/all_data_on_simple_surf/path/rh_lateral_path.1D.roi', dtype='int64')[:,0]"
   ]
  },
  {
   "cell_type": "code",
   "execution_count": 78,
   "metadata": {
    "collapsed": true
   },
   "outputs": [],
   "source": [
    "path = afni_path.copy()"
   ]
  },
  {
   "cell_type": "code",
   "execution_count": 81,
   "metadata": {
    "collapsed": false
   },
   "outputs": [],
   "source": [
    "import networkx as nx\n",
    "sub_g = nx.subgraph(g, path)\n",
    "ends = []\n",
    "for node in path:\n",
    "    if nx.degree(sub_g)[node] == 1:\n",
    "        ends.append(node)\n",
    "sorted_path = shortest_path(sub_g, ends[0], ends[1])"
   ]
  },
  {
   "cell_type": "markdown",
   "metadata": {},
   "source": [
    "### from embedding peaks"
   ]
  },
  {
   "cell_type": "code",
   "execution_count": 6,
   "metadata": {
    "collapsed": true
   },
   "outputs": [],
   "source": [
    "embed = np.load('/scr/ilz3/myelinconnect/all_data_on_simple_surf/clust/smooth_3/mask_025_5/rh_embed_10.npy')[:,0]"
   ]
  },
  {
   "cell_type": "code",
   "execution_count": 59,
   "metadata": {
    "collapsed": false
   },
   "outputs": [],
   "source": [
    "eps=0.005\n",
    "max_idx = np.where(np.abs(embed-np.max(embed))<eps)\n",
    "min_idx = np.where(embed-np.min(embed)<eps)"
   ]
  },
  {
   "cell_type": "code",
   "execution_count": 60,
   "metadata": {
    "collapsed": false
   },
   "outputs": [
    {
     "data": {
      "text/plain": [
       "array([ 0.09333084,  0.09567403,  0.09397338,  0.0942682 ,  0.09505714,\n",
       "        0.09446555,  0.09329918,  0.09699677,  0.09676323,  0.09354759,\n",
       "        0.09585159,  0.09766559,  0.09533976,  0.09513208,  0.09819179,\n",
       "        0.09364586,  0.0982514 ,  0.09767659,  0.09485356,  0.09721277,\n",
       "        0.09502928,  0.09445418,  0.09821024,  0.09777397,  0.09700192,\n",
       "        0.09779725,  0.09735597,  0.09743272,  0.09573   ,  0.09331287,\n",
       "        0.09648615])"
      ]
     },
     "execution_count": 60,
     "metadata": {},
     "output_type": "execute_result"
    }
   ],
   "source": [
    "embed[max_idx]"
   ]
  },
  {
   "cell_type": "code",
   "execution_count": 61,
   "metadata": {
    "collapsed": false
   },
   "outputs": [
    {
     "data": {
      "text/plain": [
       "array([-0.1076733 , -0.11102912, -0.10919626, -0.10774619, -0.11185631,\n",
       "       -0.11219203, -0.10862442, -0.11039041, -0.10800527, -0.11186312,\n",
       "       -0.11138808, -0.10745581, -0.1089829 , -0.11056337, -0.10872906,\n",
       "       -0.10893372, -0.10767826, -0.11067899, -0.10857583, -0.10947611,\n",
       "       -0.10902877, -0.10900198, -0.1095872 , -0.10824625, -0.10810521])"
      ]
     },
     "execution_count": 61,
     "metadata": {},
     "output_type": "execute_result"
    }
   ],
   "source": [
    "embed[min_idx]"
   ]
  },
  {
   "cell_type": "code",
   "execution_count": 62,
   "metadata": {
    "collapsed": true
   },
   "outputs": [],
   "source": [
    "min_max=np.zeros_like(embed)\n",
    "min_max[min_idx]=-1\n",
    "min_max[max_idx]=1"
   ]
  },
  {
   "cell_type": "code",
   "execution_count": 63,
   "metadata": {
    "collapsed": true
   },
   "outputs": [],
   "source": [
    "sulc = np.load('/scr/ilz3/myelinconnect/all_data_on_simple_surf/surfs/lowres_rh_sulc.npy')"
   ]
  },
  {
   "cell_type": "code",
   "execution_count": 64,
   "metadata": {
    "collapsed": false
   },
   "outputs": [],
   "source": [
    "mlab.figure(bgcolor=(1, 1, 1))\n",
    "img = mlab.triangular_mesh(v[:,0],v[:,1],v[:,2],f,scalars=min_max, colormap='RdBu')\n",
    "#lut = img.module_manager.scalar_lut_manager.lut.table.to_array()\n",
    "#img.module_manager.scalar_lut_manager.lut.table = cmap_full\n",
    "mlab.draw()\n",
    "mlab.show()"
   ]
  },
  {
   "cell_type": "code",
   "execution_count": 70,
   "metadata": {
    "collapsed": false
   },
   "outputs": [
    {
     "data": {
      "text/plain": [
       "59276"
      ]
     },
     "execution_count": 70,
     "metadata": {},
     "output_type": "execute_result"
    }
   ],
   "source": [
    "np.where(embed==embed.min())[0][0]"
   ]
  },
  {
   "cell_type": "code",
   "execution_count": 71,
   "metadata": {
    "collapsed": false
   },
   "outputs": [
    {
     "data": {
      "text/plain": [
       "46644"
      ]
     },
     "execution_count": 71,
     "metadata": {},
     "output_type": "execute_result"
    }
   ],
   "source": [
    "np.where(embed==embed.max())[0][0]"
   ]
  },
  {
   "cell_type": "code",
   "execution_count": null,
   "metadata": {
    "collapsed": true
   },
   "outputs": [],
   "source": []
  }
 ],
 "metadata": {
  "kernelspec": {
   "display_name": "Python 2",
   "language": "python",
   "name": "python2"
  },
  "language_info": {
   "codemirror_mode": {
    "name": "ipython",
    "version": 2
   },
   "file_extension": ".py",
   "mimetype": "text/x-python",
   "name": "python",
   "nbconvert_exporter": "python",
   "pygments_lexer": "ipython2",
   "version": "2.7.11"
  }
 },
 "nbformat": 4,
 "nbformat_minor": 0
}
