{
 "cells": [
  {
   "cell_type": "code",
   "execution_count": 2,
   "metadata": {
    "collapsed": false
   },
   "outputs": [],
   "source": [
    "%matplotlib inline"
   ]
  },
  {
   "cell_type": "code",
   "execution_count": 6,
   "metadata": {
    "collapsed": true
   },
   "outputs": [],
   "source": [
    "from __future__ import division\n",
    "import numpy as np\n",
    "from vtk_rw import read_vtk, write_vtk\n",
    "import matplotlib.pyplot as plt\n",
    "from joblib import Memory\n",
    "from tempfile import mkdtemp"
   ]
  },
  {
   "cell_type": "code",
   "execution_count": 19,
   "metadata": {
    "collapsed": true
   },
   "outputs": [],
   "source": [
    "cachedir = mkdtemp()\n",
    "memory = Memory(cachedir=cachedir, mmap_mode='r')"
   ]
  },
  {
   "cell_type": "markdown",
   "metadata": {},
   "source": [
    "## Sample T1 data (average / profiles) on simple surface"
   ]
  },
  {
   "cell_type": "code",
   "execution_count": 36,
   "metadata": {
    "collapsed": false
   },
   "outputs": [],
   "source": [
    "label_file = ('/scr/ilz3/myelinconnect/groupavg/indv_space/BP4T/labelling_lh.txt')\n",
    "highres_file = ('/scr/ilz3/myelinconnect/struct/surf_rh/prep_t1/profiles/BP4T_rh_mid_proflies.vtk')\n",
    "old_lowres_file = ('/scr/ilz3/myelinconnect/groupavg/indv_space/BP4T/lowres_lh_d_def.vtk')\n",
    "new_lowres_file = ('/scr/ilz3/myelinconnect/final_data_on_surfaces/t1/BP4T_lh_profiles_lowres.vtk')"
   ]
  },
  {
   "cell_type": "code",
   "execution_count": 34,
   "metadata": {
    "collapsed": true
   },
   "outputs": [],
   "source": [
    "labels = np.loadtxt(label_file)"
   ]
  },
  {
   "cell_type": "code",
   "execution_count": 37,
   "metadata": {
    "collapsed": false
   },
   "outputs": [],
   "source": [
    "highres_v, highres_f, highres_data = read_vtk(highres_file)"
   ]
  },
  {
   "cell_type": "code",
   "execution_count": 32,
   "metadata": {
    "collapsed": true
   },
   "outputs": [],
   "source": [
    "lowres_v, lowres_f, lowres_data = read_vtk(old_lowres_file)"
   ]
  },
  {
   "cell_type": "code",
   "execution_count": 20,
   "metadata": {
    "collapsed": true
   },
   "outputs": [],
   "source": [
    "@memory.cache\n",
    "def combine_patch_data(labels, highres_data):\n",
    "    \n",
    "    lowres_data = np.empty((int(labels[:,1].max()+1), highres_data.shape[1]))\n",
    "   \n",
    "    for l in range(int(labels[:,1 ].max())):\n",
    "        patch = np.where(labels[:,1]==l)[0]\n",
    "        patch_data = highres_data[patch]\n",
    "        patch_mean = np.mean(patch_data, axis=0)\n",
    "        lowres_data[l] = patch_mean\n",
    "    \n",
    "    return lowres_data"
   ]
  },
  {
   "cell_type": "code",
   "execution_count": 38,
   "metadata": {
    "collapsed": false
   },
   "outputs": [
    {
     "name": "stdout",
     "output_type": "stream",
     "text": [
      "________________________________________________________________________________\n",
      "[Memory] Calling __main__--home-raid3-huntenburg-workspace-myelinconnect-notebooks-__ipython-input__.combine_patch_data-alias...\n",
      "combine_patch_data-alias(array([[  0.000000e+00,   6.300000e+01],\n",
      "       ..., \n",
      "       [  7.371470e+05,   7.618000e+04]]), \n",
      "array([[ 2074.838867, ...,  1974.813477],\n",
      "       ..., \n",
      "       [ 1572.972046, ...,  2181.115479]]))\n",
      "________________________________________combine_patch_data-alias - 77.3s, 1.3min\n"
     ]
    }
   ],
   "source": [
    "lowres_data = combine_patch_data(labels, highres_data)"
   ]
  },
  {
   "cell_type": "code",
   "execution_count": 26,
   "metadata": {
    "collapsed": false
   },
   "outputs": [
    {
     "data": {
      "text/plain": [
       "array([[  1.52529907e+003,   1.60783521e+003,   1.54792151e+003, ...,\n",
       "          1.75336914e+003,   1.80376611e+003,   1.97734473e+003],\n",
       "       [  1.54620874e+003,   1.71543667e+003,   2.10014530e+003, ...,\n",
       "          1.94961078e+003,   2.04899866e+003,   2.02068624e+003],\n",
       "       [  1.50893168e+003,   1.62895601e+003,   1.75345016e+003, ...,\n",
       "          1.93022871e+003,   1.91933935e+003,   2.04546982e+003],\n",
       "       ..., \n",
       "       [  1.56051676e+003,   1.59922291e+003,   1.64735329e+003, ...,\n",
       "          1.82436155e+003,   1.93492713e+003,   2.04554342e+003],\n",
       "       [  1.59857990e+003,   1.63113521e+003,   1.67141414e+003, ...,\n",
       "          1.82459194e+003,   1.93498773e+003,   2.09649526e+003],\n",
       "       [  5.46228828e-315,   5.46228856e-315,   5.46228883e-315, ...,\n",
       "          9.06498498e-043,   6.12388154e-062,   3.31253229e-317]])"
      ]
     },
     "execution_count": 26,
     "metadata": {},
     "output_type": "execute_result"
    }
   ],
   "source": [
    "np.asarray(lowres_data)"
   ]
  },
  {
   "cell_type": "code",
   "execution_count": null,
   "metadata": {
    "collapsed": false
   },
   "outputs": [],
   "source": [
    "write_vtk(new_lowres_file, lowres_v, lowres_f, data=lowres_data)"
   ]
  },
  {
   "cell_type": "code",
   "execution_count": null,
   "metadata": {
    "collapsed": true
   },
   "outputs": [],
   "source": []
  }
 ],
 "metadata": {
  "kernelspec": {
   "display_name": "Python 2",
   "language": "python",
   "name": "python2"
  },
  "language_info": {
   "codemirror_mode": {
    "name": "ipython",
    "version": 2
   },
   "file_extension": ".py",
   "mimetype": "text/x-python",
   "name": "python",
   "nbconvert_exporter": "python",
   "pygments_lexer": "ipython2",
   "version": "2.7.3"
  }
 },
 "nbformat": 4,
 "nbformat_minor": 0
}
